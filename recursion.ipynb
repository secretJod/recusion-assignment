{
 "cells": [
  {
   "cell_type": "markdown",
   "id": "d30c6e0d-615f-4a83-92a5-9703dbf23fb6",
   "metadata": {},
   "source": [
    "Q.1 Can you explain the logic and working of the Tower of Hanoi algorithm by writing a Java program?\n",
    "How does the recursion work, and how are the movements of disks between rods accomplished?"
   ]
  },
  {
   "cell_type": "code",
   "execution_count": 7,
   "id": "e74017b9-da6a-4538-a72b-7320ccf9c348",
   "metadata": {},
   "outputs": [
    {
     "name": "stdout",
     "output_type": "stream",
     "text": [
      "move from A to C\n",
      "move from A to B\n",
      "move from C to B\n",
      "move from A to C\n",
      "move from B to A\n",
      "move from B to C\n",
      "move from A to C\n"
     ]
    }
   ],
   "source": [
    "def toh(n,a,b,c):\n",
    "    if n == 0:\n",
    "        return\n",
    "    toh(n-1,a,c,b)\n",
    "    print(f'move from {a} to {c}')\n",
    "    toh(n-1,b,a,c)\n",
    "\n",
    "toh(3,'A','B','C')"
   ]
  },
  {
   "cell_type": "markdown",
   "id": "a51243e5-00a8-4a7b-b767-581542b2a5a4",
   "metadata": {},
   "source": [
    "Q.2 Given two strings word1 and word2, return the minimum number of operations required to convert word1\n",
    "to word2."
   ]
  },
  {
   "cell_type": "code",
   "execution_count": 4,
   "id": "68c2b4a7-3d38-43e0-8d71-8b52e2ab98e6",
   "metadata": {},
   "outputs": [
    {
     "name": "stdout",
     "output_type": "stream",
     "text": [
      "5\n"
     ]
    }
   ],
   "source": [
    "def solve(w1,w2,i,j,l1,l2):\n",
    "    if i >= l1:\n",
    "        return l2-j\n",
    "    if j >= l2:\n",
    "        return l1-i\n",
    "    if w1[i] == w2[j]:\n",
    "        return solve(w1,w2,i+1,j+1,l1,l2)\n",
    "    ins = solve(w1,w2,i,j+1,l1,l2) + 1\n",
    "    rem = solve(w1,w2,i+1,j,l1,l2) + 1\n",
    "    rep = solve(w1,w2,i+1,j+1,l1,l2) + 1\n",
    "    return min(ins,rem,rep)\n",
    "\n",
    "w1 = \"intention\"\n",
    "w2 = \"execution\"\n",
    "print( solve(w1,w2,0,0,len(w1),len(w2) ) )"
   ]
  },
  {
   "cell_type": "markdown",
   "id": "312931da-689d-4968-823f-38a47093a414",
   "metadata": {},
   "source": [
    "Print the max value of the array [ 13, 1, -3, 22, 5]."
   ]
  },
  {
   "cell_type": "code",
   "execution_count": 6,
   "id": "6aedd6f1-057a-44ad-9b50-2dc5986a5321",
   "metadata": {},
   "outputs": [
    {
     "name": "stdout",
     "output_type": "stream",
     "text": [
      "22\n"
     ]
    }
   ],
   "source": [
    "def f(ar,i):\n",
    "    if i == len(ar)-1:\n",
    "        return ar[i]\n",
    "    a = ar[i]\n",
    "    b = f(ar,i+1)\n",
    "    return max(a,b)\n",
    "ar =  [ 13, 1, -3, 22, 5]\n",
    "print(f(ar,0))"
   ]
  },
  {
   "cell_type": "markdown",
   "id": "560a09dd-5f1c-4e27-884e-1e583e057350",
   "metadata": {},
   "source": [
    "Find the sum of the values of the array [92, 23, 15, -20, 10]."
   ]
  },
  {
   "cell_type": "code",
   "execution_count": 8,
   "id": "586ef684-47b6-4e57-afcf-f08629864116",
   "metadata": {},
   "outputs": [
    {
     "name": "stdout",
     "output_type": "stream",
     "text": [
      "120\n"
     ]
    }
   ],
   "source": [
    "def f(ar,i):\n",
    "    if i == len(ar)-1:\n",
    "        return ar[i]\n",
    "    a = ar[i]\n",
    "    b = f(ar,i+1)\n",
    "    return a + b\n",
    "ar =  [92, 23, 15, -20, 10]\n",
    "print(f(ar,0))"
   ]
  },
  {
   "cell_type": "markdown",
   "id": "863e4399-f2bd-4b28-9e5d-5c22efc16b9f",
   "metadata": {},
   "source": [
    "Q.5 Given a number n. Print if it is an armstrong number or not.An armstrong number is a number if the sum\n",
    "of every digit in that number raised to the power of total digits in that number is equal to the number."
   ]
  },
  {
   "cell_type": "code",
   "execution_count": 17,
   "id": "91c8882e-35fd-456f-8b86-5fe9946f5aa6",
   "metadata": {},
   "outputs": [
    {
     "name": "stdout",
     "output_type": "stream",
     "text": [
      "True\n"
     ]
    }
   ],
   "source": [
    "def solve(n,l):\n",
    "    if n == 0 or n == 1:\n",
    "        return n\n",
    "    a = (n % 10) ** l\n",
    "    b = solve(n//10,l)\n",
    "    return a + b\n",
    "n = 1634\n",
    "s = str(n)\n",
    "l = len(s)\n",
    "print(solve(n,l)==n)"
   ]
  }
 ],
 "metadata": {
  "kernelspec": {
   "display_name": "Python 3 (ipykernel)",
   "language": "python",
   "name": "python3"
  },
  "language_info": {
   "codemirror_mode": {
    "name": "ipython",
    "version": 3
   },
   "file_extension": ".py",
   "mimetype": "text/x-python",
   "name": "python",
   "nbconvert_exporter": "python",
   "pygments_lexer": "ipython3",
   "version": "3.10.8"
  }
 },
 "nbformat": 4,
 "nbformat_minor": 5
}
